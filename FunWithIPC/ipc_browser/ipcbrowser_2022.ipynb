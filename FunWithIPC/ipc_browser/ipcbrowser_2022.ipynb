{
 "cells": [
  {
   "cell_type": "markdown",
   "metadata": {
    "id": "NcmOXv9cDwrA"
   },
   "source": [
    "# Fun with IPC XML, Python xml, lxml and ElementTree\n",
    "\n",
    "### Python Quellen\n",
    "* John Shipman's tutorial on [Python XML processing with lxml](https://www.academia.edu/38587906/Python_XML_processing_with_lxml)\n",
    "* [The ElementTree API on](https://docs.python.org/3/library/xml.etree.elementtree.html) on python.org\n",
    "* Tutorials on [Real Python](https://realpython.com/)\n",
    "* [Pandas Documentation](https://pandas.pydata.org/pandas-docs/stable/index.html)\n",
    "\n",
    "### WIPO Links\n",
    "* Current Edition of IPC Master Files from [WIPO's Download and IT support area](https://www.wipo.int/classifications/ipc/en/ITsupport/), here the  [direkt link zu the zip File](https://www.wipo.int/ipc/itos4ipc/ITSupport_and_download_area//20210101/MasterFiles/ipc_scheme_images_20210101.zip)\n",
    "* Documentation and XSDs are [here](https://www.wipo.int/classifications/ipc/en/ITsupport/Version20210101/documentation/IPCfiles.html), esp. the Specification of the Scheme file [here](https://www.wipo.int/ipc/itos4ipc/ITSupport_and_download_area/Documentation/20210101/IPC_scheme_specs_v3_1.docx)\n",
    "* [Link](https://www.wipo.int/classifications/ipc/ipcpub/?notion=scheme&version=20210101&symbol=none&menulang=en&lang=en&viewmode=f&fipcpc=no&showdeleted=yes&indexes=no&headings=yes&notes=yes&direction=o2n&initial=A&cwid=none&tree=no&searchmode=smart) to the IPC Browser of WIPO\n",
    "\n",
    "\n",
    "First, we download the IPC XML from WIPO, to work with it further down the road. This is every time needed, after this machine here restarted!"
   ]
  },
  {
   "cell_type": "code",
   "execution_count": 2,
   "metadata": {
    "colab": {
     "base_uri": "https://localhost:8080/"
    },
    "id": "AknoBqTbhtvo",
    "outputId": "5b33cc82-bb69-480b-87e3-37216345e147"
   },
   "outputs": [
    {
     "name": "stdout",
     "output_type": "stream",
     "text": [
      "downloaded and unzipped .ipynb_checkpoints in: 816 ms\n"
     ]
    }
   ],
   "source": [
    "import requests, zipfile, io, os, time\n",
    "\n",
    "tic = time.perf_counter() * 1000\n",
    "\n",
    "url = 'https://www.wipo.int/ipc/itos4ipc/ITSupport_and_download_area//20210101/MasterFiles/ipc_scheme_20210101.zip'\n",
    "r = requests.get(url)\n",
    "z = zipfile.ZipFile(io.BytesIO(r.content))\n",
    "z.extractall()\n",
    "\n",
    "filename = os.listdir()[1]\n",
    "\n",
    "toc = time.perf_counter() * 1000\n",
    "\n",
    "print('downloaded and unzipped', filename, f'in: {(toc - tic):0.0f} ms')"
   ]
  },
  {
   "cell_type": "markdown",
   "metadata": {
    "id": "TUxWPJGqSnPE"
   },
   "source": [
    "\n",
    "#First Sample Code"
   ]
  },
  {
   "cell_type": "markdown",
   "metadata": {
    "id": "LuGcPR_EJA7F"
   },
   "source": [
    "First, we just import lxml and get the file (manual download, put it here next to the sample data) and access it, print the upper level elements tags and the attribut dictonary. These are the sections of the IPC Tree. The attributes contain: 'kind' and 'symbol' and 'entryTpe'."
   ]
  },
  {
   "cell_type": "code",
   "execution_count": 16,
   "metadata": {
    "colab": {
     "base_uri": "https://localhost:8080/"
    },
    "id": "mUNPOSO-GaQ3",
    "outputId": "648e2946-f358-48ca-ff52-9f4ca16ba58e"
   },
   "outputs": [
    {
     "name": "stdout",
     "output_type": "stream",
     "text": [
      "Error: File './ipcbrowser/EN_ipc_scheme_20240101.xml' does not exist.\n"
     ]
    }
   ],
   "source": [
    "import os\n",
    "from lxml import etree as ET\n",
    "\n",
    "filename = \"./ipcbrowser/EN_ipc_scheme_20240101.xml\"\n",
    "\n",
    "# Check if the file exists\n",
    "if not os.path.exists(filename):\n",
    "    print(f\"Error: File '{filename}' does not exist.\")\n",
    "else:\n",
    "    try:\n",
    "        parser = ET.XMLParser(remove_blank_text=True)\n",
    "        tree = ET.parse(filename, parser=parser)\n",
    "        root = tree.getroot()\n",
    "\n",
    "        # Function to recursively parse and print the XML structure\n",
    "        def parse_element(element, level=0):\n",
    "            indent = \"  \" * level  # Indentation for better readability\n",
    "            print(f\"{indent}Tag: {element.tag}, Attributes: {element.attrib}\")\n",
    "            for child in element:\n",
    "                parse_element(child, level + 1)\n",
    "\n",
    "        # Start parsing from the root\n",
    "        print(\"Root Element:\")\n",
    "        parse_element(root)\n",
    "\n",
    "    except ET.XMLSyntaxError as e:\n",
    "        print(f\"XML Syntax Error: {e}\")\n",
    "    except Exception as e:\n",
    "        print(f\"An error occurred: {e}\")"
   ]
  },
  {
   "cell_type": "markdown",
   "metadata": {
    "id": "ae7L55xD0kwu"
   },
   "source": [
    "just a different, shorter way of doing this stuff"
   ]
  },
  {
   "cell_type": "code",
   "execution_count": 3,
   "metadata": {
    "colab": {
     "base_uri": "https://localhost:8080/"
    },
    "id": "YrLn37y8xT-Y",
    "outputId": "1ad80fae-e1be-4521-98eb-9b8e391b7166"
   },
   "outputs": [
    {
     "name": "stdout",
     "output_type": "stream",
     "text": [
      "{http://www.wipo.int/classifications/ipc/masterfiles}ipcEntry {'kind': 's', 'symbol': 'A', 'entryType': 'K'}\n",
      "{http://www.wipo.int/classifications/ipc/masterfiles}ipcEntry {'kind': 's', 'symbol': 'B', 'entryType': 'K'}\n",
      "{http://www.wipo.int/classifications/ipc/masterfiles}ipcEntry {'kind': 's', 'symbol': 'C', 'entryType': 'K'}\n",
      "{http://www.wipo.int/classifications/ipc/masterfiles}ipcEntry {'kind': 's', 'symbol': 'D', 'entryType': 'K'}\n",
      "{http://www.wipo.int/classifications/ipc/masterfiles}ipcEntry {'kind': 's', 'symbol': 'E', 'entryType': 'K'}\n",
      "{http://www.wipo.int/classifications/ipc/masterfiles}ipcEntry {'kind': 's', 'symbol': 'F', 'entryType': 'K'}\n",
      "{http://www.wipo.int/classifications/ipc/masterfiles}ipcEntry {'kind': 's', 'symbol': 'G', 'entryType': 'K'}\n",
      "{http://www.wipo.int/classifications/ipc/masterfiles}ipcEntry {'kind': 's', 'symbol': 'H', 'entryType': 'K'}\n"
     ]
    }
   ],
   "source": [
    "import xml.etree.ElementTree as ET\n",
    "root = ET.parse(\"./EN_ipc_scheme_20210101.xml\").getroot()\n",
    "\n",
    "for sections in root:\n",
    "   print(sections.tag, sections.attrib)"
   ]
  },
  {
   "cell_type": "markdown",
   "metadata": {
    "id": "kES1q_0TQ0qI"
   },
   "source": [
    "#What do we see?\n",
    "\n",
    "The **tag** (including the xmlns - NameSpace, that this entry belongs. There is only one ns in the XML btw.) and the **attributes**, obviously, and the **atributes** you can see in the next text box.\n"
   ]
  },
  {
   "cell_type": "markdown",
   "metadata": {
    "id": "4c2JP2HLGZUG"
   },
   "source": [
    "##Atributes\n",
    "###'kind' with its Values:\n",
    "* s = section\n",
    "* t = sub-section title\n",
    "* c = class\n",
    "* i = sub-class index\n",
    "* u = sub-class\n",
    "* g = guidance heading\n",
    "  m = main group\n",
    "* 1 to B = 11 levels of group (hexadecimal notation)\n",
    "* n = note\n",
    "\n",
    "###'symbol' with its Values:\n",
    "\n",
    "###The IPC Symbol! Thats the thing...\n",
    "\n",
    "###'entryType' with its Values:\n",
    "* K = classification symbol (default, i.e. for classification purpose only)\n",
    "* I = Indexing symbol  (i.e. for indexing purpose only)\n",
    "* D = Double purpose classification symbol (i.e. for both classification and indexing purpose) – existed only prior to the IPC reform\n",
    "* Z = problematic entry (i.e. structure and/or contents have been partially converted from CPC or FI)\n",
    "Interesting for us, are only entryType 'K'"
   ]
  },
  {
   "cell_type": "markdown",
   "metadata": {
    "id": "_gVTQ_VZPCjb"
   },
   "source": [
    "##Dictionaries for kind level and title of level\n",
    "```\n",
    "kind_to_level = {\n",
    "  's':1,\n",
    "  'c':2,\n",
    "  'u':3,\n",
    "  'g':4,\n",
    "  'm':4,\n",
    "  '1':5,\n",
    "  '2':6,\n",
    "  '3':7,\n",
    "  '4':8,\n",
    "  '5':9,\n",
    "  '6':10,\n",
    "  '7':11,\n",
    "  '8':12,\n",
    "  '9':13,\n",
    "  'A':14,\n",
    "  'B':15}\n",
    "\n",
    "kind_to_levelTitle = {\n",
    "  's':'section',\n",
    "  't':'sub-section title',\n",
    "  'c':'class',\n",
    "  'I':'sub-class index',\n",
    "  'u':'sub-class',\n",
    "  'g':'guidance heading',\n",
    "  'm':'main group',\n",
    "  '1':'.subgroup',\n",
    "  '2':'..subgroup',\n",
    "  '3':'...subgroup',\n",
    "  '4':'....subgroup',\n",
    "  '5':'.....subgroup',\n",
    "  '6':'......subgroup',\n",
    "  '7':'.......subgroup',\n",
    "  '8':'........subgroup',\n",
    "  '9':'.........subgroup',\n",
    "  'A':'..........subgroup',\n",
    "  'B':'...........subgroup',\n",
    "  'n':'note'}\n",
    "```"
   ]
  },
  {
   "cell_type": "markdown",
   "metadata": {
    "id": "qUZiy1K9yw4k"
   },
   "source": [
    "##here the list for all the interesing entries in our IPC XML\n",
    "\n",
    "```\n",
    "whatlevel = [\"s\",\"c\",\"u\",\"m\",\"1\",\"2\",\"3\",\"4\",\"5\",\"6\",\"7\",\"8\",\"9\",\"A\",\"B\"]\n",
    "```\n",
    "\n"
   ]
  },
  {
   "cell_type": "markdown",
   "metadata": {
    "id": "6O37hTXpQhcu"
   },
   "source": [
    "#Next Sample Code\n",
    "\n",
    "Now we use lxml again and try to iterate two levels down and print a list of section, classes and sub classes."
   ]
  },
  {
   "cell_type": "code",
   "execution_count": null,
   "metadata": {
    "id": "wRhcVGeDopSF"
   },
   "outputs": [],
   "source": [
    "from lxml import etree as ET\n",
    "\n",
    "filename = \"./EN_ipc_scheme_20210101.xml\"\n",
    "parser = ET.XMLParser(remove_blank_text=True)\n",
    "tree = ET.parse(filename, parser=parser)\n",
    "root = tree.getroot()\n",
    "\n",
    "ipcEntry = '{http://www.wipo.int/classifications/ipc/masterfiles}ipcEntry'\n",
    "\n",
    "for sections in root:\n",
    "    print('1st level sections: ', sections.attrib['symbol'], \" kind:\", sections.attrib['kind'])\n",
    "\n",
    "    #go one level deeper to classes\n",
    "    for classes in sections.iterchildren(tag=ipcEntry):\n",
    "      print('2nd level classes: ', classes.attrib['symbol'], \" kind:\", classes.attrib['kind'])\n",
    "\n",
    "      #go one level deeper to sub classes\n",
    "      for subclasses in classes.iterchildren(tag=ipcEntry):\n",
    "        print('3nd level sub classes: ', subclasses.attrib['symbol'], \" kind:\", subclasses.attrib['kind'])"
   ]
  },
  {
   "cell_type": "markdown",
   "metadata": {
    "id": "kLQfkHXCt9QF"
   },
   "source": [
    "now we learn python and find others ways, to iterate over all children, checking with if for specific 'kind' of entries."
   ]
  },
  {
   "cell_type": "code",
   "execution_count": null,
   "metadata": {
    "colab": {
     "base_uri": "https://localhost:8080/"
    },
    "id": "HcZvIbymuWrr",
    "outputId": "f89b085c-83aa-465d-fba5-5f4dd8f3fb39"
   },
   "outputs": [
    {
     "name": "stdout",
     "output_type": "stream",
     "text": [
      "for kind <Element {http://www.wipo.int/classifications/ipc/masterfiles}ipcEntry at 0x7f68db963690> found 23390 entries in: 0.06341743469238281 sec\n"
     ]
    }
   ],
   "source": [
    "from lxml import etree as ET\n",
    "import time\n",
    "\n",
    "filename = \"./EN_ipc_scheme_20210101.xml\"\n",
    "\n",
    "parser = ET.XMLParser(remove_blank_text=True)\n",
    "tree = ET.parse(filename, parser=parser)\n",
    "root = tree.getroot()\n",
    "\n",
    "ipcEntry = '{http://www.wipo.int/classifications/ipc/masterfiles}ipcEntry'\n",
    "count = 0\n",
    "start = time.time()\n",
    "\n",
    "whatlevel = \"1\"\n",
    "\n",
    "for element in root.iter(ipcEntry):\n",
    "  if element.attrib['kind'] == whatlevel:\n",
    "    count = count + 1\n",
    "    #print(count, element.attrib['symbol'])\n",
    "\n",
    "print(\"for kind\", element, \"found\", count, 'entries in:', time.time() - start, 'sec')\n",
    "\n"
   ]
  },
  {
   "cell_type": "markdown",
   "metadata": {
    "id": "BUhvOHPSsW0v"
   },
   "source": [
    "Now with a tuple of all the \"kind\" of entries i want to check..."
   ]
  },
  {
   "cell_type": "code",
   "execution_count": null,
   "metadata": {
    "colab": {
     "base_uri": "https://localhost:8080/"
    },
    "id": "n3clEzy_sZQS",
    "outputId": "f25a2bbd-86a7-4b79-a816-95094b11807a"
   },
   "outputs": [
    {
     "name": "stdout",
     "output_type": "stream",
     "text": [
      "for kind s found  8 entries in: 146 ms\n",
      "for kind c found  131 entries in: 58 ms\n",
      "for kind u found  646 entries in: 61 ms\n",
      "for kind m found  7523 entries in: 66 ms\n",
      "for kind 1 found  23390 entries in: 66 ms\n",
      "for kind 2 found  23048 entries in: 61 ms\n",
      "for kind 3 found  13661 entries in: 60 ms\n",
      "for kind 4 found  5934 entries in: 62 ms\n",
      "for kind 5 found  1987 entries in: 61 ms\n",
      "for kind 6 found  638 entries in: 62 ms\n",
      "for kind 7 found  155 entries in: 60 ms\n",
      "for kind 8 found  68 entries in: 59 ms\n",
      "for kind 9 found  10 entries in: 59 ms\n",
      "for kind A found  4 entries in: 68 ms\n",
      "for kind B found  4 entries in: 57 ms\n"
     ]
    }
   ],
   "source": [
    "from lxml import etree as ET\n",
    "import time\n",
    "\n",
    "filename = \"./EN_ipc_scheme_20210101.xml\"\n",
    "\n",
    "parser = ET.XMLParser(remove_blank_text=True)\n",
    "tree = ET.parse(filename, parser=parser)\n",
    "root = tree.getroot()\n",
    "\n",
    "ipcEntry = '{http://www.wipo.int/classifications/ipc/masterfiles}ipcEntry'\n",
    "count = 0\n",
    "\n",
    "whatlevel = (\"s\",\"c\",\"u\",\"m\",\"1\",\"2\",\"3\",\"4\",\"5\",\"6\",\"7\",\"8\",\"9\",\"A\",\"B\")\n",
    "\n",
    "for level in whatlevel:\n",
    "\n",
    "  tic = time.perf_counter() * 1000\n",
    "\n",
    "  for element in root.iter(ipcEntry):\n",
    "    if element.attrib['kind'] == level:\n",
    "      count = count + 1\n",
    "      #print(count, element.attrib['symbol'])\n",
    "\n",
    "  toc = time.perf_counter() * 1000\n",
    "\n",
    "  print(\"for kind\", level, \"found \", count, f\"entries in: {(toc - tic):0.0f} ms\")\n",
    "\n",
    "  count = 0\n"
   ]
  },
  {
   "cell_type": "markdown",
   "metadata": {
    "id": "gmBivZBp4-iS"
   },
   "source": [
    "now with a dictonary"
   ]
  },
  {
   "cell_type": "code",
   "execution_count": null,
   "metadata": {
    "colab": {
     "base_uri": "https://localhost:8080/"
    },
    "id": "hWm_dXtC5DgV",
    "outputId": "5638f380-7092-49d5-87de-fb5f5ce5364a"
   },
   "outputs": [
    {
     "name": "stdout",
     "output_type": "stream",
     "text": [
      "for kind  section found  8 entries (in: 148 ms)\n",
      "for kind  sub-section title found  20 entries (in: 62 ms)\n",
      "for kind  class found  131 entries (in: 66 ms)\n",
      "for kind  sub-class index found  0 entries (in: 63 ms)\n",
      "for kind  sub-class found  646 entries (in: 66 ms)\n",
      "for kind  guidance heading found  547 entries (in: 63 ms)\n",
      "for kind  main group found  7523 entries (in: 64 ms)\n",
      "for kind  .subgroup found  23390 entries (in: 63 ms)\n",
      "for kind  ..subgroup found  23048 entries (in: 68 ms)\n",
      "for kind  ...subgroup found  13661 entries (in: 62 ms)\n",
      "for kind  ....subgroup found  5934 entries (in: 60 ms)\n",
      "for kind  .....subgroup found  1987 entries (in: 65 ms)\n",
      "for kind  ......subgroup found  638 entries (in: 66 ms)\n",
      "for kind  .......subgroup found  155 entries (in: 61 ms)\n",
      "for kind  ........subgroup found  68 entries (in: 60 ms)\n",
      "for kind  .........subgroup found  10 entries (in: 60 ms)\n",
      "for kind  ..........subgroup found  4 entries (in: 73 ms)\n",
      "for kind  ...........subgroup found  4 entries (in: 66 ms)\n",
      "for kind  note found  959 entries (in: 72 ms)\n"
     ]
    }
   ],
   "source": [
    "from lxml import etree as ET\n",
    "import time\n",
    "\n",
    "filename = \"./EN_ipc_scheme_20210101.xml\"\n",
    "\n",
    "parser = ET.XMLParser(remove_blank_text=True)\n",
    "tree = ET.parse(filename, parser=parser)\n",
    "root = tree.getroot()\n",
    "\n",
    "ipcEntry = '{http://www.wipo.int/classifications/ipc/masterfiles}ipcEntry'\n",
    "\n",
    "whatlevel = {\n",
    "  's':'section',\n",
    "  't':'sub-section title',\n",
    "  'c':'class',\n",
    "  'I':'sub-class index',\n",
    "  'u':'sub-class',\n",
    "  'g':'guidance heading',\n",
    "  'm':'main group',\n",
    "  '1':'.subgroup',\n",
    "  '2':'..subgroup',\n",
    "  '3':'...subgroup',\n",
    "  '4':'....subgroup',\n",
    "  '5':'.....subgroup',\n",
    "  '6':'......subgroup',\n",
    "  '7':'.......subgroup',\n",
    "  '8':'........subgroup',\n",
    "  '9':'.........subgroup',\n",
    "  'A':'..........subgroup',\n",
    "  'B':'...........subgroup',\n",
    "  'n':'note'}\n",
    "\n",
    "for level in whatlevel.keys():\n",
    "\n",
    "  count = 0\n",
    "  start = time.time()\n",
    "\n",
    "  for element in root.iter(ipcEntry):\n",
    "    if element.attrib['kind'] == level:\n",
    "      count = count + 1\n",
    "      #print(count, element.attrib['symbol'])\n",
    "  print(\"for kind \", whatlevel[level], \"found \", count, f'entries (in: {(time.time() - start) * 1000:0.0f} ms)')\n",
    "\n",
    "  count = 0\n",
    "  start = time.time()\n"
   ]
  },
  {
   "cell_type": "code",
   "execution_count": 5,
   "metadata": {
    "colab": {
     "base_uri": "https://localhost:8080/"
    },
    "id": "FUuag4AWLVR-",
    "outputId": "9311451d-d929-4693-8e3e-9263b88c38fa"
   },
   "outputs": [
    {
     "name": "stdout",
     "output_type": "stream",
     "text": [
      "for kind s found  8\n",
      "for kind c found  131\n",
      "for kind u found  646\n",
      "for kind m found  7523\n",
      "for kind 1 found  23390\n",
      "for kind 2 found  23048\n",
      "for kind 3 found  13661\n",
      "for kind 4 found  5934\n",
      "for kind 5 found  1987\n",
      "for kind 6 found  638\n",
      "for kind 7 found  155\n",
      "for kind 8 found  68\n",
      "for kind 9 found  10\n",
      "for kind A found  4\n",
      "for kind B found  4\n",
      "time needed: entries in: 578 ms\n"
     ]
    }
   ],
   "source": [
    "from lxml import etree as ET\n",
    "import time\n",
    "\n",
    "filename = \"./EN_ipc_scheme_20210101.xml\"\n",
    "\n",
    "parser = ET.XMLParser(remove_blank_text=True)\n",
    "tree = ET.parse(filename, parser=parser)\n",
    "root = tree.getroot()\n",
    "\n",
    "ipcEntry = '{http://www.wipo.int/classifications/ipc/masterfiles}ipcEntry'\n",
    "\n",
    "whatLevel = [\"s\",\"c\",\"u\",\"m\",\"1\",\"2\",\"3\",\"4\",\"5\",\"6\",\"7\",\"8\",\"9\",\"A\",\"B\"]\n",
    "\n",
    "tic = time.perf_counter() * 1000\n",
    "def iterDurchsXML(level):\n",
    "  count = 0\n",
    "  for element in root.iter(ipcEntry):\n",
    "    if element.attrib['kind'] == level:\n",
    "      count = count + 1\n",
    "      #print(count, element.attrib['symbol'])\n",
    "\n",
    "  print(\"for kind\", level, \"found \", count)\n",
    "\n",
    "for level in whatLevel:\n",
    "  iterDurchsXML(level)\n",
    "\n",
    "toc = time.perf_counter() * 1000\n",
    "\n",
    "print(\"time needed:\", f\"entries in: {(toc - tic):0.0f} ms\")"
   ]
  },
  {
   "cell_type": "markdown",
   "metadata": {
    "id": "fKeeuTVdLQhC"
   },
   "source": [
    "#Sample with a recursive function\n",
    "\n",
    "Instead of iter through the whole, we recursively go through the children of each entry. much more fun!\n",
    "\n",
    "\n",
    "\n"
   ]
  },
  {
   "cell_type": "code",
   "execution_count": 6,
   "metadata": {
    "colab": {
     "base_uri": "https://localhost:8080/"
    },
    "id": "FejsEjVJWFwZ",
    "outputId": "20206ea5-144d-42f6-b8af-fde631684c17"
   },
   "outputs": [
    {
     "name": "stdout",
     "output_type": "stream",
     "text": [
      "kind A [144005, 72003, 1]\n",
      "kind A [144015, 72008, 2]\n",
      "kind A [144023, 72012, 3]\n",
      "kind A [144045, 72023, 4]\n",
      "time needed: 172 ms\n"
     ]
    }
   ],
   "source": [
    "from lxml import etree as ET\n",
    "import time\n",
    "\n",
    "filename = \"./EN_ipc_scheme_20210101.xml\"\n",
    "\n",
    "parser = ET.XMLParser(remove_blank_text=True)\n",
    "tree = ET.parse(filename, parser=parser)\n",
    "root = tree.getroot()\n",
    "\n",
    "whatLevel = [\"s\",\"c\",\"u\",\"m\",\"1\",\"2\",\"3\",\"4\",\"5\",\"6\",\"7\",\"8\",\"9\",\"A\",\"B\"]\n",
    "\n",
    "### here is my recursive function\n",
    "\n",
    "tic = time.perf_counter() * 1000\n",
    "list = [0,0,0]\n",
    "\n",
    "def recWalker(node, list, kind):\n",
    "  for child in node:\n",
    "    list[0] += 1\n",
    "    if not child.attrib == {}:\n",
    "      list[1] += 1\n",
    "      attrib = child.attrib['kind']\n",
    "      if attrib == kind:\n",
    "        list[2] += 1\n",
    "        print(\"kind\", attrib, list)\n",
    "      #here I call the function within the function! thats makes it recursive!\n",
    "      recWalker(child, list, kind)\n",
    "\n",
    "# this ist the first call of the function\n",
    "# argument is the xml, a empty list and the \"kind\" of entries, i want to find.\n",
    "recWalker(root, list, \"A\")\n",
    "\n",
    "toc = time.perf_counter() * 1000\n",
    "\n",
    "print(f'time needed: {(toc - tic):0.0f} ms')"
   ]
  },
  {
   "cell_type": "markdown",
   "metadata": {
    "id": "dtATWUorhgGI"
   },
   "source": [
    "#Next Idea: minidom\n",
    "\n",
    "Use a different module, here xml.dom.minidom\n",
    "\n",
    "* as described [here](https://docs.python.org/3/library/xml.dom.minidom.html#module-xml.dom.minidom) at python.org\n",
    "* and the DOM [here]((https://www.w3.org/TR/REC-DOM-Level-1/level-one-core.html)) at w3c.org\n",
    "\n",
    "Interesting functions would access Node with parentNode, childNodes, firstChild, lastChild, previousSibling and nextSibling and their content and attributes.\n",
    "\n",
    "loading very slow! but after loading access to the entries are fast."
   ]
  },
  {
   "cell_type": "code",
   "execution_count": null,
   "metadata": {
    "id": "pUFm6-_RhkJB"
   },
   "outputs": [],
   "source": [
    "import xml.dom.minidom\n",
    "#the module used for parsing the xml file is imported\n",
    "\n",
    "xml_file = './EN_ipc_scheme_20210101.xml'\n",
    "tag_name = 'ipcEntry'\n",
    "attr_name = 'symbol'\n",
    "\n",
    "#This function is declared with three arguements namely the xml file to be parsed, the tag name and the attribute name and it does the magic\n",
    "def generic_dom(xml_file,tag_name,attr_name):\n",
    "  doc = xml.dom.minidom.parse(xml_file)\n",
    "  tags = doc.getElementsByTagName(tag_name)\n",
    "  for any_attr in tags:\n",
    "    attr = any_attr.getAttribute(attr_name)\n",
    "    print(attr)\n",
    "\n",
    "generic_dom(xml_file,tag_name,attr_name)"
   ]
  },
  {
   "cell_type": "markdown",
   "metadata": {
    "id": "ynWpugYSAUrc"
   },
   "source": [
    "# Next Sample with recursive function and a XPath Call"
   ]
  },
  {
   "cell_type": "code",
   "execution_count": null,
   "metadata": {
    "colab": {
     "base_uri": "https://localhost:8080/"
    },
    "id": "e3g3xHwHAYt0",
    "outputId": "0439ec6d-56bb-46a6-fe69-754f598dee4b"
   },
   "outputs": [
    {
     "name": "stdout",
     "output_type": "stream",
     "text": [
      "kind 9 [135193, 67597, 1]\n",
      "the data current flowing through the driving transistor during a setting phase, e.g. by using a switch for connecting the driving transistor to the data driver\n",
      "kind 9 [143757, 71879, 2]\n",
      "Dynamic random access memory structures (DRAM)\n",
      "kind 9 [143759, 71880, 3]\n",
      "Static random access memory structures (SRAM)\n",
      "kind 9 [143761, 71881, 4]\n",
      "Read-only memory structures (ROM)\n",
      "kind 9 [143997, 71999, 5]\n",
      "with cell select transistors, e.g. NAND\n",
      "kind 9 [144001, 72001, 6]\n",
      "of memory regions comprising cell select transistors, e.g. NAND\n",
      "kind 9 [144003, 72002, 7]\n",
      "Simultaneous manufacturing of periphery and memory cells\n",
      "kind 9 [144021, 72011, 8]\n",
      "with source and drain on different levels, e.g. with sloping channels\n",
      "kind 9 [144035, 72018, 9]\n",
      "with cell select transistors, e.g. NAND\n",
      "kind 9 [144043, 72022, 10]\n",
      "with source and drain on different levels, e.g. with sloping channels\n",
      "time needed: 292 ms\n"
     ]
    }
   ],
   "source": [
    "from lxml import etree as ET\n",
    "import time\n",
    "\n",
    "filename = \"./EN_ipc_scheme_20210101.xml\"\n",
    "\n",
    "parser = ET.XMLParser(remove_blank_text=True)\n",
    "tree = ET.parse(filename, parser=parser)\n",
    "root = tree.getroot()\n",
    "\n",
    "whatLevel = [\"s\",\"c\",\"u\",\"m\",\"1\",\"2\",\"3\",\"4\",\"5\",\"6\",\"7\",\"8\",\"9\",\"A\",\"B\"]\n",
    "\n",
    "### here is my recursive function\n",
    "\n",
    "tic = time.perf_counter() * 1000\n",
    "list = [0,0,0]\n",
    "\n",
    "def recWalker(node, list, kind):\n",
    "  for child in node:\n",
    "    list[0] += 1\n",
    "    if not child.attrib == {}:\n",
    "      list[1] += 1\n",
    "      attrib = child.attrib['kind']\n",
    "      if attrib == kind:\n",
    "        list[2] += 1\n",
    "        alltext = child.xpath('descendant-or-self::text()')\n",
    "        print(\"kind\", attrib, list)\n",
    "        print(alltext[0])\n",
    "      #here I call the function within the function! thats makes it recursive!\n",
    "      recWalker(child, list, kind)\n",
    "\n",
    "# this ist the first call of the function\n",
    "# argument is the xml, a empty list and the \"kind\" of entries, i want to find.\n",
    "recWalker(root, list, \"9\")\n",
    "\n",
    "toc = time.perf_counter() * 1000\n",
    "\n",
    "print(f'time needed: {(toc - tic):0.0f} ms')"
   ]
  },
  {
   "cell_type": "markdown",
   "metadata": {
    "id": "UJdwBg6VhyHe"
   },
   "source": [
    "# Dictionary Approach\n",
    "So, letz see, if I can reate a dictionary with almost all the content of the IPC XML.\n",
    "\n",
    "letz have a look at one entry\n",
    "\n",
    "now start thinking, how to extract the values in a nice way\n",
    "\n",
    "* each ipcEntry has attributes\n",
    "  * each ipcEntry has kind = 1...16\n",
    "  * each ipcEntry has its symbol\n",
    "  * each ipcEntry has a type\n",
    "\n",
    "* each ipcEntry has one parent and one to many children\n",
    "  * each ipcEntry has one parent ipcEntry, except for the first, upper 8 ipcEntries (remember its a hierarchical tree).\n",
    "  * each ipcEntry has one or many child ipcEntries\n",
    "\n",
    "\n",
    "* each ipcEntry has a textBody\n",
    "  * each textBody has a title\n",
    "    * each title has one or many titlePart\n",
    "      * each titlePart has one text\n",
    "      * each titlePart has one or many entryReference with a sref to another symbol\n",
    "\n",
    "here an example\n",
    "```\n",
    "<ipcEntry kind=\"u\" symbol=\"A01B\" entryType=\"K\">\n",
    "  <textBody>\n",
    "    <title>\n",
    "      <titlePart>\n",
    "         <text>SOIL WORKING IN AGRICULTURE OR FORESTRY</text>\n",
    "      </titlePart>\n",
    "      <titlePart>\n",
    "        <text>PARTS, DETAILS, OR ACCESSORIES OF AGRICULTURAL MACHINES OR IMPLEMENTS, IN GENERAL</text>\n",
    "           <entryReference>making or covering furrows or holes for sowing, planting or manuring <sref ref=\"A01C0005000000\"/>\n",
    "           </entryReference>\n",
    "           <entryReference>machines for harvesting root crops <sref ref=\"A01D\"/>\n",
    "           </entryReference>\n",
    "           <entryReference>mowers convertible to soil working apparatus or capable of soil working <sref ref=\"A01D0042040000\"/>\n",
    "           </entryReference>\n",
    "           <entryReference>mowers combined with soil working implements <sref ref=\"A01D0043120000\"/>\n",
    "           </entryReference>\n",
    "           <entryReference>soil working for engineering purposes <sref ref=\"E01\"/>,<sref ref=\"E02\"/>,<sref ref=\"E21\"/>\n",
    "           </entryReference>\n",
    "        </titlePart>\n",
    "      </title>\n",
    "    </textBody>\n",
    "```\n"
   ]
  },
  {
   "cell_type": "code",
   "execution_count": 17,
   "metadata": {
    "colab": {
     "base_uri": "https://localhost:8080/"
    },
    "id": "IL79go9ih68u",
    "outputId": "b79860ca-9d79-4666-af8b-1bd5cbbc28bc"
   },
   "outputs": [
    {
     "ename": "OSError",
     "evalue": "Error reading file './EN_ipc_scheme_20240101.xml': failed to load external entity \"./EN_ipc_scheme_20240101.xml\"",
     "output_type": "error",
     "traceback": [
      "\u001b[0;31m---------------------------------------------------------------------------\u001b[0m",
      "\u001b[0;31mOSError\u001b[0m                                   Traceback (most recent call last)",
      "Cell \u001b[0;32mIn[17], line 7\u001b[0m\n\u001b[1;32m      4\u001b[0m filename \u001b[38;5;241m=\u001b[39m \u001b[38;5;124m\"\u001b[39m\u001b[38;5;124m./EN_ipc_scheme_20240101.xml\u001b[39m\u001b[38;5;124m\"\u001b[39m\n\u001b[1;32m      6\u001b[0m parser \u001b[38;5;241m=\u001b[39m ET\u001b[38;5;241m.\u001b[39mXMLParser(remove_blank_text\u001b[38;5;241m=\u001b[39m\u001b[38;5;28;01mTrue\u001b[39;00m)\n\u001b[0;32m----> 7\u001b[0m tree \u001b[38;5;241m=\u001b[39m \u001b[43mET\u001b[49m\u001b[38;5;241;43m.\u001b[39;49m\u001b[43mparse\u001b[49m\u001b[43m(\u001b[49m\u001b[43mfilename\u001b[49m\u001b[43m,\u001b[49m\u001b[43m \u001b[49m\u001b[43mparser\u001b[49m\u001b[38;5;241;43m=\u001b[39;49m\u001b[43mparser\u001b[49m\u001b[43m)\u001b[49m\n\u001b[1;32m      8\u001b[0m root \u001b[38;5;241m=\u001b[39m tree\u001b[38;5;241m.\u001b[39mgetroot()\n\u001b[1;32m     10\u001b[0m ipcEntry \u001b[38;5;241m=\u001b[39m \u001b[38;5;124m'\u001b[39m\u001b[38;5;124m{\u001b[39m\u001b[38;5;124mhttp://www.wipo.int/classifications/ipc/masterfiles}ipcEntry\u001b[39m\u001b[38;5;124m'\u001b[39m\n",
      "File \u001b[0;32msrc/lxml/etree.pyx:3589\u001b[0m, in \u001b[0;36mlxml.etree.parse\u001b[0;34m()\u001b[0m\n",
      "File \u001b[0;32msrc/lxml/parser.pxi:1958\u001b[0m, in \u001b[0;36mlxml.etree._parseDocument\u001b[0;34m()\u001b[0m\n",
      "File \u001b[0;32msrc/lxml/parser.pxi:1984\u001b[0m, in \u001b[0;36mlxml.etree._parseDocumentFromURL\u001b[0;34m()\u001b[0m\n",
      "File \u001b[0;32msrc/lxml/parser.pxi:1887\u001b[0m, in \u001b[0;36mlxml.etree._parseDocFromFile\u001b[0;34m()\u001b[0m\n",
      "File \u001b[0;32msrc/lxml/parser.pxi:1200\u001b[0m, in \u001b[0;36mlxml.etree._BaseParser._parseDocFromFile\u001b[0;34m()\u001b[0m\n",
      "File \u001b[0;32msrc/lxml/parser.pxi:633\u001b[0m, in \u001b[0;36mlxml.etree._ParserContext._handleParseResultDoc\u001b[0;34m()\u001b[0m\n",
      "File \u001b[0;32msrc/lxml/parser.pxi:743\u001b[0m, in \u001b[0;36mlxml.etree._handleParseResult\u001b[0;34m()\u001b[0m\n",
      "File \u001b[0;32msrc/lxml/parser.pxi:670\u001b[0m, in \u001b[0;36mlxml.etree._raiseParseError\u001b[0;34m()\u001b[0m\n",
      "\u001b[0;31mOSError\u001b[0m: Error reading file './EN_ipc_scheme_20240101.xml': failed to load external entity \"./EN_ipc_scheme_20240101.xml\""
     ]
    }
   ],
   "source": [
    "from lxml import etree as ET\n",
    "import time\n",
    "\n",
    "filename = \"./EN_ipc_scheme_20240101.xml\"\n",
    "\n",
    "parser = ET.XMLParser(remove_blank_text=True)\n",
    "tree = ET.parse(filename, parser=parser)\n",
    "root = tree.getroot()\n",
    "\n",
    "ipcEntry = '{http://www.wipo.int/classifications/ipc/masterfiles}ipcEntry'\n",
    "ipcXML = {}\n",
    "\n",
    "tic = time.perf_counter() * 1000\n",
    "count = 0\n",
    "\n",
    "for element in root.iter(ipcEntry):\n",
    "  if not element.attrib == {}:\n",
    "    count = count + 1\n",
    "\n",
    "    elementAttribKind   = element.attrib['kind']\n",
    "    elementAttribSymbol = element.attrib['symbol']\n",
    "\n",
    "    elementAttribType   = element.attrib['entryType']\n",
    "\n",
    "    elementText = element.xpath('descendant-or-self::text()')\n",
    "    elementText = elementText[0]\n",
    "    if count < 100:\n",
    "      print(count, elementAttribKind, elementAttribType, elementAttribSymbol, elementText)\n",
    "\n",
    "toc = time.perf_counter() * 1000\n",
    "\n",
    "print(\"time needed:\", f\"entries in: {(toc - tic):0.0f} ms\")"
   ]
  },
  {
   "cell_type": "code",
   "execution_count": 13,
   "metadata": {},
   "outputs": [
    {
     "name": "stdout",
     "output_type": "stream",
     "text": [
      "Extracted 646 sub-classes in 151 ms.\n",
      "A01B: SOIL WORKING IN AGRICULTURE OR FORESTRY\n",
      "A01C: PLANTING\n",
      "A01D: HARVESTING\n",
      "A01F: THRESHING\n",
      "A01G: HORTICULTURE\n"
     ]
    }
   ],
   "source": [
    "from lxml import etree as ET\n",
    "import time\n",
    "\n",
    "# File path to the IPC XML\n",
    "filename = \"./EN_ipc_scheme_20210101.xml\"\n",
    "\n",
    "# Define the namespace and parser\n",
    "ipc_namespace = '{http://www.wipo.int/classifications/ipc/masterfiles}'\n",
    "ipcEntry = f\"{ipc_namespace}ipcEntry\"\n",
    "text_body = f\"{ipc_namespace}textBody\"\n",
    "title_part = f\"{ipc_namespace}titlePart\"\n",
    "text = f\"{ipc_namespace}text\"\n",
    "parser = ET.XMLParser(remove_blank_text=True)\n",
    "\n",
    "# Parse the XML file\n",
    "tree = ET.parse(filename, parser=parser)\n",
    "root = tree.getroot()\n",
    "\n",
    "# Initialize dictionary for sub-class mapping\n",
    "sub_class_mapping = {}\n",
    "\n",
    "# Start measuring time\n",
    "start = time.time()\n",
    "\n",
    "# Iterate through the XML to extract sub-class information\n",
    "for element in root.iter(ipcEntry):\n",
    "    if element.attrib.get(\"kind\") == \"u\":  # Focus on sub-classes\n",
    "        symbol = element.attrib.get(\"symbol\")  # Extract sub-class symbol\n",
    "\n",
    "        # Locate the title text within the nested structure\n",
    "        text_element = element.find(f\".//{text_body}//{title_part}//{text}\")\n",
    "        title = text_element.text.strip() if text_element is not None else \"No Title\"\n",
    "\n",
    "        sub_class_mapping[symbol] = title\n",
    "\n",
    "# Print execution time\n",
    "print(f\"Extracted {len(sub_class_mapping)} sub-classes in {(time.time() - start) * 1000:.0f} ms.\")\n",
    "\n",
    "# Print a sample of the extracted data\n",
    "for symbol, title in list(sub_class_mapping.items())[:5]:\n",
    "    print(f\"{symbol}: {title}\")\n",
    "\n"
   ]
  },
  {
   "cell_type": "code",
   "execution_count": null,
   "metadata": {},
   "outputs": [],
   "source": []
  }
 ],
 "metadata": {
  "colab": {
   "authorship_tag": "ABX9TyN18pFyKcax09nym55gpTrd",
   "collapsed_sections": [
    "kES1q_0TQ0qI"
   ],
   "include_colab_link": true,
   "name": "ipcbrowser.ipynb",
   "provenance": [],
   "toc_visible": true
  },
  "kernelspec": {
   "display_name": "Python 3 (ipykernel)",
   "language": "python",
   "name": "python3"
  },
  "language_info": {
   "codemirror_mode": {
    "name": "ipython",
    "version": 3
   },
   "file_extension": ".py",
   "mimetype": "text/x-python",
   "name": "python",
   "nbconvert_exporter": "python",
   "pygments_lexer": "ipython3",
   "version": "3.11.10"
  }
 },
 "nbformat": 4,
 "nbformat_minor": 4
}
