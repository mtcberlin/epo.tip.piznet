{
 "cells": [
  {
   "cell_type": "markdown",
   "id": "5992c8d8-b1aa-4456-a6e7-b16b830a6e15",
   "metadata": {},
   "source": [
    "🇪🇺 Arne Krueger and Chad G. Petey Presents 🤓: \n",
    "# 🦅 Arne Krueger's Fun 🎉 with 📚 Patent Classifikation ✨\n",
    "\n",
    "## Welcome, Patent Information Professionals - this is Session 3!\n",
    "\n",
    "Patent classification systems, like the Cooperative Patent Classification (CPC), are essential tools for organizing, searching, and analyzing patent information. CPC data provides hierarchical insights into technology fields, from broad sections to detailed subgroups. \n",
    "\n",
    "This notebook is a hands-on guide to **download, parse, and analyze CPC data**. Whether you're a patent professional, data scientist, or simply curious about the structure of CPC, this is your starting point for transforming CPC text data into meaningful insights.\n",
    "\n",
    "### What We'll Cover:\n",
    "1. **Downloading CPC Title Lists**: Access the latest CPC classification data.\n",
    "2. **Parsing Text Files into Structured Data**: Create pandas DataFrames from raw CPC files.\n",
    "3. **Analyzing CPC Data**: Prepare the data for visualization and queries."
   ]
  },
  {
   "cell_type": "markdown",
   "id": "3c0c47ed-8810-406b-92ce-20c5e8e61b37",
   "metadata": {},
   "source": [
    "### Step 1: Downloading the CPC Title List\n",
    "\n",
    "The CPC Title List is a ZIP file that contains text files representing different sections of the CPC classification system. This function downloads the ZIP file, extracts it, and collects all the relevant text files."
   ]
  },
  {
   "cell_type": "code",
   "execution_count": 2,
   "id": "c1dd74f0-e8d7-4603-9c11-4ffbffd77ada",
   "metadata": {},
   "outputs": [],
   "source": [
    "import os\n",
    "import requests\n",
    "import zipfile\n",
    "import pandas as pd\n",
    "\n",
    "def download_and_extract_cpc_title_list(url, destination_folder=\"./cpc_data\"):\n",
    "    \"\"\"\n",
    "    Downloads and extracts the CPC Title List ZIP file.\n",
    "\n",
    "    Parameters:\n",
    "        url (str): URL to the CPC Title List ZIP file.\n",
    "        destination_folder (str): Folder to store the downloaded and extracted files.\n",
    "\n",
    "    Returns:\n",
    "        list: Paths to the extracted text files.\n",
    "    \"\"\"\n",
    "    # Ensure the destination folder exists\n",
    "    os.makedirs(destination_folder, exist_ok=True)\n",
    "\n",
    "    # Define paths\n",
    "    zip_file_path = os.path.join(destination_folder, \"CPCTitleList.zip\")\n",
    "\n",
    "    # Step 1: Download the ZIP file\n",
    "    if not os.path.exists(zip_file_path):\n",
    "        print(f\"Downloading {url}...\")\n",
    "        response = requests.get(url)\n",
    "        response.raise_for_status()\n",
    "        with open(zip_file_path, \"wb\") as f:\n",
    "            f.write(response.content)\n",
    "        print(f\"Downloaded to {zip_file_path}\")\n",
    "    else:\n",
    "        print(f\"ZIP file already exists: {zip_file_path}\")\n",
    "\n",
    "    # Step 2: Unzip the file\n",
    "    print(\"Extracting the ZIP file...\")\n",
    "    with zipfile.ZipFile(zip_file_path, \"r\") as zip_ref:\n",
    "        zip_ref.extractall(destination_folder)\n",
    "        extracted_files = zip_ref.namelist()\n",
    "        print(f\"Extracted files: {extracted_files}\")\n",
    "\n",
    "    # Step 3: Collect all text files\n",
    "    text_files = [os.path.join(destination_folder, file) for file in extracted_files if file.endswith(\".txt\")]\n",
    "\n",
    "    if not text_files:\n",
    "        raise FileNotFoundError(\"No text files found in the extracted ZIP.\")\n",
    "    return text_files"
   ]
  },
  {
   "cell_type": "markdown",
   "id": "721fe3d4-9f3c-4eb5-b337-2e7efc246650",
   "metadata": {},
   "source": [
    "### Step 2: Parsing CPC Text Files\n",
    "\n",
    "Once we have the text files extracted, this function parses the text files into a pandas DataFrame. It extracts key attributes like the CPC symbol, title, and depth for hierarchical analysis."
   ]
  },
  {
   "cell_type": "code",
   "execution_count": 3,
   "id": "ab901bd2-a5aa-4b76-b828-fbfcab10b5be",
   "metadata": {},
   "outputs": [],
   "source": [
    "def parse_cpc_text_files(text_files):\n",
    "    \"\"\"\n",
    "    Parses CPC text files into a pandas DataFrame.\n",
    "\n",
    "    Parameters:\n",
    "        text_files (list): List of paths to CPC text files.\n",
    "\n",
    "    Returns:\n",
    "        pd.DataFrame: Combined DataFrame of all CPC sections.\n",
    "    \"\"\"\n",
    "    data = []\n",
    "\n",
    "    for file_path in text_files:\n",
    "        print(f\"Parsing file: {file_path}\")\n",
    "        with open(file_path, \"r\", encoding=\"utf-8\") as f:\n",
    "            for line in f:\n",
    "                # Split the line into parts\n",
    "                parts = line.strip().split(\"\\t\")\n",
    "                if len(parts) < 2:\n",
    "                    continue  # Skip malformed lines\n",
    "\n",
    "                symbol = parts[0].strip()\n",
    "                title = parts[-1].strip()\n",
    "                depth = int(parts[1].strip()) if len(parts) > 2 and parts[1].isdigit() else 0\n",
    "\n",
    "                data.append({\n",
    "                    \"symbol\": symbol,\n",
    "                    \"title\": title,\n",
    "                    \"depth\": depth\n",
    "                })\n",
    "\n",
    "    return pd.DataFrame(data)"
   ]
  },
  {
   "cell_type": "markdown",
   "id": "98bea3ae-68ae-4fe7-88f8-0d2cc8895576",
   "metadata": {},
   "source": [
    "### Step 3: Main Workflow\n",
    "\n",
    "This is the main workflow that ties everything together. It downloads the CPC Title List, parses the extracted files, and displays a preview of the structured CPC data."
   ]
  },
  {
   "cell_type": "code",
   "execution_count": 4,
   "id": "a938ba9b-c075-490a-817b-85b1a861a0a8",
   "metadata": {},
   "outputs": [
    {
     "name": "stdout",
     "output_type": "stream",
     "text": [
      "ZIP file already exists: ./cpc_data/CPCTitleList.zip\n",
      "Extracting the ZIP file...\n",
      "Extracted files: ['cpc-section-A_20240801.txt', 'cpc-section-B_20240801.txt', 'cpc-section-C_20240801.txt', 'cpc-section-D_20240801.txt', 'cpc-section-E_20240801.txt', 'cpc-section-F_20240801.txt', 'cpc-section-G_20240801.txt', 'cpc-section-H_20240801.txt', 'cpc-section-Y_20240801.txt']\n",
      "Parsing file: ./cpc_data/cpc-section-A_20240801.txt\n",
      "Parsing file: ./cpc_data/cpc-section-B_20240801.txt\n",
      "Parsing file: ./cpc_data/cpc-section-C_20240801.txt\n",
      "Parsing file: ./cpc_data/cpc-section-D_20240801.txt\n",
      "Parsing file: ./cpc_data/cpc-section-E_20240801.txt\n",
      "Parsing file: ./cpc_data/cpc-section-F_20240801.txt\n",
      "Parsing file: ./cpc_data/cpc-section-G_20240801.txt\n",
      "Parsing file: ./cpc_data/cpc-section-H_20240801.txt\n",
      "Parsing file: ./cpc_data/cpc-section-Y_20240801.txt\n",
      "\n",
      "Combined CPC DataFrame:\n",
      "     symbol                                              title  depth\n",
      "0         A                                  HUMAN NECESSITIES      0\n",
      "1       A01  AGRICULTURE; FORESTRY; ANIMAL HUSBANDRY; HUNTI...      0\n",
      "2      A01B  SOIL WORKING IN AGRICULTURE OR FORESTRY; PARTS...      0\n",
      "3  A01B1/00  Hand tools (edge trimmers for lawns A01G3/06  ...      0\n",
      "4  A01B1/02  Spades; Shovels {(hand-operated dredgers E02F3...      1\n"
     ]
    }
   ],
   "source": [
    "# Main workflow\n",
    "if __name__ == \"__main__\":\n",
    "    # URL and destination folder\n",
    "    cpc_zip_url = \"https://www.cooperativepatentclassification.org/sites/default/files/cpc/bulk/CPCTitleList202408.zip\"\n",
    "    destination_folder = \"./cpc_data\"\n",
    "\n",
    "    # Download and extract\n",
    "    text_files = download_and_extract_cpc_title_list(cpc_zip_url, destination_folder)\n",
    "\n",
    "    # Parse text files into a DataFrame\n",
    "    df_cpc = parse_cpc_text_files(text_files)\n",
    "\n",
    "    # Display the DataFrame\n",
    "    print(\"\\nCombined CPC DataFrame:\")\n",
    "    print(df_cpc.head())\n",
    "\n",
    "    # Optional: Save the DataFrame to SQLite or process further"
   ]
  },
  {
   "cell_type": "markdown",
   "id": "147db2f4-fff6-4f94-af44-7898166bbaee",
   "metadata": {},
   "source": [
    "## 🎉 Congratulations! 🎉\n",
    "\n",
    "You’ve successfully:\n",
    "- Downloaded the latest CPC Title List from the official CPC website.\n",
    "- Parsed the text files into a structured pandas DataFrame.\n",
    "- Prepared the data for further analysis, visualization, or integration into databases.\n",
    "\n",
    "### What’s Next?\n",
    "- Use this data for keyword-based queries or visualization tools.\n",
    "- Combine the CPC data with patent filing datasets for advanced analytics.\n",
    "- Explore the hierarchical relationships using the `depth` attribute.\n",
    "\n",
    "---\n",
    "\n",
    "We hope you found this guide useful! Share your thoughts, ideas, or any questions with us on LinkedIn or in the community. Let’s continue exploring the exciting world of patent information! 🚀"
   ]
  },
  {
   "cell_type": "code",
   "execution_count": null,
   "id": "66342e4e-d958-42f5-ab50-75d5d047a2a4",
   "metadata": {},
   "outputs": [],
   "source": []
  }
 ],
 "metadata": {
  "kernelspec": {
   "display_name": "Python 3 (ipykernel)",
   "language": "python",
   "name": "python3"
  },
  "language_info": {
   "codemirror_mode": {
    "name": "ipython",
    "version": 3
   },
   "file_extension": ".py",
   "mimetype": "text/x-python",
   "name": "python",
   "nbconvert_exporter": "python",
   "pygments_lexer": "ipython3",
   "version": "3.11.10"
  }
 },
 "nbformat": 4,
 "nbformat_minor": 5
}
